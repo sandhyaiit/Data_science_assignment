{
 "cells": [
  {
   "cell_type": "markdown",
   "id": "46f291fe",
   "metadata": {},
   "source": [
    "# Ques-5"
   ]
  },
  {
   "cell_type": "markdown",
   "id": "c8fef6d3",
   "metadata": {},
   "source": [
    "# Load Libraries"
   ]
  },
  {
   "cell_type": "code",
   "execution_count": 1,
   "id": "8c6d6430",
   "metadata": {},
   "outputs": [],
   "source": [
    "from scipy import stats\n",
    "import numpy as np\n",
    "import pandas as pd\n",
    "import matplotlib.pyplot as plt\n",
    "import astroML"
   ]
  },
  {
   "cell_type": "markdown",
   "id": "4d1fa050",
   "metadata": {},
   "source": [
    "# Load Dataset"
   ]
  },
  {
   "cell_type": "code",
   "execution_count": 2,
   "id": "4cb38498",
   "metadata": {},
   "outputs": [],
   "source": [
    "dataset=pd.read_csv(\"C:/Users/ssand/Dataset/exoplanet.eu_catalog.csv\")"
   ]
  },
  {
   "cell_type": "code",
   "execution_count": 3,
   "id": "7b9f2712",
   "metadata": {},
   "outputs": [
    {
     "data": {
      "text/html": [
       "<div>\n",
       "<style scoped>\n",
       "    .dataframe tbody tr th:only-of-type {\n",
       "        vertical-align: middle;\n",
       "    }\n",
       "\n",
       "    .dataframe tbody tr th {\n",
       "        vertical-align: top;\n",
       "    }\n",
       "\n",
       "    .dataframe thead th {\n",
       "        text-align: right;\n",
       "    }\n",
       "</style>\n",
       "<table border=\"1\" class=\"dataframe\">\n",
       "  <thead>\n",
       "    <tr style=\"text-align: right;\">\n",
       "      <th></th>\n",
       "      <th># name</th>\n",
       "      <th>planet_status</th>\n",
       "      <th>mass</th>\n",
       "      <th>mass_error_min</th>\n",
       "      <th>mass_error_max</th>\n",
       "      <th>mass_sini</th>\n",
       "      <th>mass_sini_error_min</th>\n",
       "      <th>mass_sini_error_max</th>\n",
       "      <th>radius</th>\n",
       "      <th>radius_error_min</th>\n",
       "      <th>...</th>\n",
       "      <th>star_sp_type</th>\n",
       "      <th>star_age</th>\n",
       "      <th>star_age_error_min</th>\n",
       "      <th>star_age_error_max</th>\n",
       "      <th>star_teff</th>\n",
       "      <th>star_teff_error_min</th>\n",
       "      <th>star_teff_error_max</th>\n",
       "      <th>star_detected_disc</th>\n",
       "      <th>star_magnetic_field</th>\n",
       "      <th>star_alternate_names</th>\n",
       "    </tr>\n",
       "  </thead>\n",
       "  <tbody>\n",
       "    <tr>\n",
       "      <th>0</th>\n",
       "      <td>11 Com b</td>\n",
       "      <td>Confirmed</td>\n",
       "      <td>NaN</td>\n",
       "      <td>NaN</td>\n",
       "      <td>NaN</td>\n",
       "      <td>16.1284</td>\n",
       "      <td>1.500</td>\n",
       "      <td>1.500</td>\n",
       "      <td>NaN</td>\n",
       "      <td>NaN</td>\n",
       "      <td>...</td>\n",
       "      <td>G8 III</td>\n",
       "      <td>NaN</td>\n",
       "      <td>NaN</td>\n",
       "      <td>NaN</td>\n",
       "      <td>4742.0</td>\n",
       "      <td>100.0</td>\n",
       "      <td>100.0</td>\n",
       "      <td>NaN</td>\n",
       "      <td>NaN</td>\n",
       "      <td>NaN</td>\n",
       "    </tr>\n",
       "    <tr>\n",
       "      <th>1</th>\n",
       "      <td>11 Oph b</td>\n",
       "      <td>Confirmed</td>\n",
       "      <td>21.00</td>\n",
       "      <td>3.00</td>\n",
       "      <td>3.00</td>\n",
       "      <td>NaN</td>\n",
       "      <td>NaN</td>\n",
       "      <td>NaN</td>\n",
       "      <td>NaN</td>\n",
       "      <td>NaN</td>\n",
       "      <td>...</td>\n",
       "      <td>M9</td>\n",
       "      <td>0.011</td>\n",
       "      <td>0.002</td>\n",
       "      <td>0.002</td>\n",
       "      <td>2375.0</td>\n",
       "      <td>175.0</td>\n",
       "      <td>175.0</td>\n",
       "      <td>NaN</td>\n",
       "      <td>NaN</td>\n",
       "      <td>Oph 1622-2405, Oph 11A</td>\n",
       "    </tr>\n",
       "    <tr>\n",
       "      <th>2</th>\n",
       "      <td>11 UMi b</td>\n",
       "      <td>Confirmed</td>\n",
       "      <td>NaN</td>\n",
       "      <td>NaN</td>\n",
       "      <td>NaN</td>\n",
       "      <td>11.0873</td>\n",
       "      <td>1.100</td>\n",
       "      <td>1.100</td>\n",
       "      <td>NaN</td>\n",
       "      <td>NaN</td>\n",
       "      <td>...</td>\n",
       "      <td>K4III</td>\n",
       "      <td>1.560</td>\n",
       "      <td>0.540</td>\n",
       "      <td>0.540</td>\n",
       "      <td>4340.0</td>\n",
       "      <td>70.0</td>\n",
       "      <td>70.0</td>\n",
       "      <td>NaN</td>\n",
       "      <td>NaN</td>\n",
       "      <td>NaN</td>\n",
       "    </tr>\n",
       "    <tr>\n",
       "      <th>3</th>\n",
       "      <td>14 And b</td>\n",
       "      <td>Confirmed</td>\n",
       "      <td>NaN</td>\n",
       "      <td>NaN</td>\n",
       "      <td>NaN</td>\n",
       "      <td>4.6840</td>\n",
       "      <td>0.230</td>\n",
       "      <td>0.230</td>\n",
       "      <td>NaN</td>\n",
       "      <td>NaN</td>\n",
       "      <td>...</td>\n",
       "      <td>K0III</td>\n",
       "      <td>NaN</td>\n",
       "      <td>NaN</td>\n",
       "      <td>NaN</td>\n",
       "      <td>4813.0</td>\n",
       "      <td>20.0</td>\n",
       "      <td>20.0</td>\n",
       "      <td>NaN</td>\n",
       "      <td>NaN</td>\n",
       "      <td>NaN</td>\n",
       "    </tr>\n",
       "    <tr>\n",
       "      <th>4</th>\n",
       "      <td>14 Her b</td>\n",
       "      <td>Confirmed</td>\n",
       "      <td>9.10</td>\n",
       "      <td>NaN</td>\n",
       "      <td>NaN</td>\n",
       "      <td>5.2150</td>\n",
       "      <td>NaN</td>\n",
       "      <td>NaN</td>\n",
       "      <td>NaN</td>\n",
       "      <td>NaN</td>\n",
       "      <td>...</td>\n",
       "      <td>K0 V</td>\n",
       "      <td>5.100</td>\n",
       "      <td>NaN</td>\n",
       "      <td>NaN</td>\n",
       "      <td>5311.0</td>\n",
       "      <td>87.0</td>\n",
       "      <td>87.0</td>\n",
       "      <td>NaN</td>\n",
       "      <td>NaN</td>\n",
       "      <td>NaN</td>\n",
       "    </tr>\n",
       "    <tr>\n",
       "      <th>...</th>\n",
       "      <td>...</td>\n",
       "      <td>...</td>\n",
       "      <td>...</td>\n",
       "      <td>...</td>\n",
       "      <td>...</td>\n",
       "      <td>...</td>\n",
       "      <td>...</td>\n",
       "      <td>...</td>\n",
       "      <td>...</td>\n",
       "      <td>...</td>\n",
       "      <td>...</td>\n",
       "      <td>...</td>\n",
       "      <td>...</td>\n",
       "      <td>...</td>\n",
       "      <td>...</td>\n",
       "      <td>...</td>\n",
       "      <td>...</td>\n",
       "      <td>...</td>\n",
       "      <td>...</td>\n",
       "      <td>...</td>\n",
       "      <td>...</td>\n",
       "    </tr>\n",
       "    <tr>\n",
       "      <th>5295</th>\n",
       "      <td>ups And c</td>\n",
       "      <td>Confirmed</td>\n",
       "      <td>9.10</td>\n",
       "      <td>2.93</td>\n",
       "      <td>5.04</td>\n",
       "      <td>1.8000</td>\n",
       "      <td>0.260</td>\n",
       "      <td>0.260</td>\n",
       "      <td>NaN</td>\n",
       "      <td>NaN</td>\n",
       "      <td>...</td>\n",
       "      <td>F8 V</td>\n",
       "      <td>3.800</td>\n",
       "      <td>1.000</td>\n",
       "      <td>1.000</td>\n",
       "      <td>6212.0</td>\n",
       "      <td>80.0</td>\n",
       "      <td>80.0</td>\n",
       "      <td>NaN</td>\n",
       "      <td>NaN</td>\n",
       "      <td>NaN</td>\n",
       "    </tr>\n",
       "    <tr>\n",
       "      <th>5296</th>\n",
       "      <td>ups And d</td>\n",
       "      <td>Confirmed</td>\n",
       "      <td>23.58</td>\n",
       "      <td>2.29</td>\n",
       "      <td>2.93</td>\n",
       "      <td>10.1900</td>\n",
       "      <td>NaN</td>\n",
       "      <td>NaN</td>\n",
       "      <td>NaN</td>\n",
       "      <td>NaN</td>\n",
       "      <td>...</td>\n",
       "      <td>F8 V</td>\n",
       "      <td>3.800</td>\n",
       "      <td>1.000</td>\n",
       "      <td>1.000</td>\n",
       "      <td>6212.0</td>\n",
       "      <td>80.0</td>\n",
       "      <td>80.0</td>\n",
       "      <td>NaN</td>\n",
       "      <td>NaN</td>\n",
       "      <td>NaN</td>\n",
       "    </tr>\n",
       "    <tr>\n",
       "      <th>5297</th>\n",
       "      <td>ups And e</td>\n",
       "      <td>Confirmed</td>\n",
       "      <td>NaN</td>\n",
       "      <td>NaN</td>\n",
       "      <td>NaN</td>\n",
       "      <td>1.0590</td>\n",
       "      <td>0.028</td>\n",
       "      <td>0.028</td>\n",
       "      <td>NaN</td>\n",
       "      <td>NaN</td>\n",
       "      <td>...</td>\n",
       "      <td>F8 V</td>\n",
       "      <td>3.800</td>\n",
       "      <td>1.000</td>\n",
       "      <td>1.000</td>\n",
       "      <td>6212.0</td>\n",
       "      <td>80.0</td>\n",
       "      <td>80.0</td>\n",
       "      <td>NaN</td>\n",
       "      <td>NaN</td>\n",
       "      <td>NaN</td>\n",
       "    </tr>\n",
       "    <tr>\n",
       "      <th>5298</th>\n",
       "      <td>ups Leo b</td>\n",
       "      <td>Confirmed</td>\n",
       "      <td>NaN</td>\n",
       "      <td>NaN</td>\n",
       "      <td>NaN</td>\n",
       "      <td>0.5100</td>\n",
       "      <td>0.260</td>\n",
       "      <td>0.080</td>\n",
       "      <td>NaN</td>\n",
       "      <td>NaN</td>\n",
       "      <td>...</td>\n",
       "      <td>G9 III</td>\n",
       "      <td>NaN</td>\n",
       "      <td>NaN</td>\n",
       "      <td>NaN</td>\n",
       "      <td>NaN</td>\n",
       "      <td>NaN</td>\n",
       "      <td>NaN</td>\n",
       "      <td>NaN</td>\n",
       "      <td>NaN</td>\n",
       "      <td>NaN</td>\n",
       "    </tr>\n",
       "    <tr>\n",
       "      <th>5299</th>\n",
       "      <td>zet Del B</td>\n",
       "      <td>Confirmed</td>\n",
       "      <td>40.00</td>\n",
       "      <td>5.00</td>\n",
       "      <td>15.00</td>\n",
       "      <td>NaN</td>\n",
       "      <td>NaN</td>\n",
       "      <td>NaN</td>\n",
       "      <td>NaN</td>\n",
       "      <td>NaN</td>\n",
       "      <td>...</td>\n",
       "      <td>A3V</td>\n",
       "      <td>0.525</td>\n",
       "      <td>0.125</td>\n",
       "      <td>0.125</td>\n",
       "      <td>8336.0</td>\n",
       "      <td>NaN</td>\n",
       "      <td>NaN</td>\n",
       "      <td>NaN</td>\n",
       "      <td>NaN</td>\n",
       "      <td>HD 196180, HIP 101589, 2MASS J20351852+1440272</td>\n",
       "    </tr>\n",
       "  </tbody>\n",
       "</table>\n",
       "<p>5300 rows × 98 columns</p>\n",
       "</div>"
      ],
      "text/plain": [
       "         # name planet_status   mass  mass_error_min  mass_error_max  \\\n",
       "0      11 Com b     Confirmed    NaN             NaN             NaN   \n",
       "1      11 Oph b     Confirmed  21.00            3.00            3.00   \n",
       "2      11 UMi b     Confirmed    NaN             NaN             NaN   \n",
       "3      14 And b     Confirmed    NaN             NaN             NaN   \n",
       "4      14 Her b     Confirmed   9.10             NaN             NaN   \n",
       "...         ...           ...    ...             ...             ...   \n",
       "5295  ups And c     Confirmed   9.10            2.93            5.04   \n",
       "5296  ups And d     Confirmed  23.58            2.29            2.93   \n",
       "5297  ups And e     Confirmed    NaN             NaN             NaN   \n",
       "5298  ups Leo b     Confirmed    NaN             NaN             NaN   \n",
       "5299  zet Del B     Confirmed  40.00            5.00           15.00   \n",
       "\n",
       "      mass_sini  mass_sini_error_min  mass_sini_error_max  radius  \\\n",
       "0       16.1284                1.500                1.500     NaN   \n",
       "1           NaN                  NaN                  NaN     NaN   \n",
       "2       11.0873                1.100                1.100     NaN   \n",
       "3        4.6840                0.230                0.230     NaN   \n",
       "4        5.2150                  NaN                  NaN     NaN   \n",
       "...         ...                  ...                  ...     ...   \n",
       "5295     1.8000                0.260                0.260     NaN   \n",
       "5296    10.1900                  NaN                  NaN     NaN   \n",
       "5297     1.0590                0.028                0.028     NaN   \n",
       "5298     0.5100                0.260                0.080     NaN   \n",
       "5299        NaN                  NaN                  NaN     NaN   \n",
       "\n",
       "      radius_error_min  ...  star_sp_type  star_age  star_age_error_min  \\\n",
       "0                  NaN  ...        G8 III       NaN                 NaN   \n",
       "1                  NaN  ...            M9     0.011               0.002   \n",
       "2                  NaN  ...         K4III     1.560               0.540   \n",
       "3                  NaN  ...         K0III       NaN                 NaN   \n",
       "4                  NaN  ...          K0 V     5.100                 NaN   \n",
       "...                ...  ...           ...       ...                 ...   \n",
       "5295               NaN  ...          F8 V     3.800               1.000   \n",
       "5296               NaN  ...          F8 V     3.800               1.000   \n",
       "5297               NaN  ...          F8 V     3.800               1.000   \n",
       "5298               NaN  ...        G9 III       NaN                 NaN   \n",
       "5299               NaN  ...           A3V     0.525               0.125   \n",
       "\n",
       "      star_age_error_max  star_teff  star_teff_error_min  star_teff_error_max  \\\n",
       "0                    NaN     4742.0                100.0                100.0   \n",
       "1                  0.002     2375.0                175.0                175.0   \n",
       "2                  0.540     4340.0                 70.0                 70.0   \n",
       "3                    NaN     4813.0                 20.0                 20.0   \n",
       "4                    NaN     5311.0                 87.0                 87.0   \n",
       "...                  ...        ...                  ...                  ...   \n",
       "5295               1.000     6212.0                 80.0                 80.0   \n",
       "5296               1.000     6212.0                 80.0                 80.0   \n",
       "5297               1.000     6212.0                 80.0                 80.0   \n",
       "5298                 NaN        NaN                  NaN                  NaN   \n",
       "5299               0.125     8336.0                  NaN                  NaN   \n",
       "\n",
       "      star_detected_disc  star_magnetic_field  \\\n",
       "0                    NaN                  NaN   \n",
       "1                    NaN                  NaN   \n",
       "2                    NaN                  NaN   \n",
       "3                    NaN                  NaN   \n",
       "4                    NaN                  NaN   \n",
       "...                  ...                  ...   \n",
       "5295                 NaN                  NaN   \n",
       "5296                 NaN                  NaN   \n",
       "5297                 NaN                  NaN   \n",
       "5298                 NaN                  NaN   \n",
       "5299                 NaN                  NaN   \n",
       "\n",
       "                                star_alternate_names  \n",
       "0                                                NaN  \n",
       "1                             Oph 1622-2405, Oph 11A  \n",
       "2                                                NaN  \n",
       "3                                                NaN  \n",
       "4                                                NaN  \n",
       "...                                              ...  \n",
       "5295                                             NaN  \n",
       "5296                                             NaN  \n",
       "5297                                             NaN  \n",
       "5298                                             NaN  \n",
       "5299  HD 196180, HIP 101589, 2MASS J20351852+1440272  \n",
       "\n",
       "[5300 rows x 98 columns]"
      ]
     },
     "execution_count": 3,
     "metadata": {},
     "output_type": "execute_result"
    }
   ],
   "source": [
    "dataset"
   ]
  },
  {
   "cell_type": "code",
   "execution_count": 4,
   "id": "a09cd1ca",
   "metadata": {},
   "outputs": [
    {
     "data": {
      "text/plain": [
       "(5300, 98)"
      ]
     },
     "execution_count": 4,
     "metadata": {},
     "output_type": "execute_result"
    }
   ],
   "source": [
    "dataset.shape"
   ]
  },
  {
   "cell_type": "code",
   "execution_count": 5,
   "id": "6bec1eb7",
   "metadata": {},
   "outputs": [
    {
     "name": "stdout",
     "output_type": "stream",
     "text": [
      "Single column value using dataframe[]\n",
      "0       0.23100\n",
      "1           NaN\n",
      "2       0.08000\n",
      "3       0.00000\n",
      "4       0.36900\n",
      "         ...   \n",
      "5295    0.24450\n",
      "5296    0.31600\n",
      "5297    0.00536\n",
      "5298    0.32000\n",
      "5299        NaN\n",
      "Name: eccentricity, Length: 5300, dtype: float64\n"
     ]
    }
   ],
   "source": [
    "print(\"Single column value using dataframe[]\")\n",
    "print(dataset['eccentricity'])"
   ]
  },
  {
   "cell_type": "code",
   "execution_count": 7,
   "id": "a625bc7c",
   "metadata": {},
   "outputs": [],
   "source": [
    "e=dataset['eccentricity']"
   ]
  },
  {
   "cell_type": "code",
   "execution_count": 8,
   "id": "0af5d5ef",
   "metadata": {},
   "outputs": [
    {
     "data": {
      "text/plain": [
       "(5300,)"
      ]
     },
     "execution_count": 8,
     "metadata": {},
     "output_type": "execute_result"
    }
   ],
   "source": [
    "e.shape"
   ]
  },
  {
   "cell_type": "code",
   "execution_count": 9,
   "id": "76089101",
   "metadata": {},
   "outputs": [
    {
     "data": {
      "text/plain": [
       "(2144,)"
      ]
     },
     "execution_count": 9,
     "metadata": {},
     "output_type": "execute_result"
    }
   ],
   "source": [
    "e=e.dropna()\n",
    "e.shape"
   ]
  },
  {
   "cell_type": "code",
   "execution_count": 10,
   "id": "149e2588",
   "metadata": {},
   "outputs": [
    {
     "data": {
      "text/plain": [
       "(2144,)"
      ]
     },
     "execution_count": 10,
     "metadata": {},
     "output_type": "execute_result"
    }
   ],
   "source": [
    "e_new=np.array(e)\n",
    "e_new\n",
    "e.shape"
   ]
  },
  {
   "cell_type": "code",
   "execution_count": 11,
   "id": "f489059a",
   "metadata": {},
   "outputs": [
    {
     "name": "stdout",
     "output_type": "stream",
     "text": [
      "New Array :\n"
     ]
    },
    {
     "data": {
      "text/plain": [
       "array([0.231  , 0.08   , 0.     , ..., 0.316  , 0.00536, 0.32   ])"
      ]
     },
     "execution_count": 11,
     "metadata": {},
     "output_type": "execute_result"
    }
   ],
   "source": [
    "e_new[e_new < 0] = 0\n",
    "print(\"New Array :\")\n",
    "e_new"
   ]
  },
  {
   "cell_type": "code",
   "execution_count": 12,
   "id": "be464031",
   "metadata": {},
   "outputs": [],
   "source": [
    "e_new=e_new[e_new != 0]"
   ]
  },
  {
   "cell_type": "code",
   "execution_count": 13,
   "id": "4e0824fd",
   "metadata": {},
   "outputs": [
    {
     "data": {
      "text/plain": [
       "array([0.231  , 0.08   , 0.369  , ..., 0.316  , 0.00536, 0.32   ])"
      ]
     },
     "execution_count": 13,
     "metadata": {},
     "output_type": "execute_result"
    }
   ],
   "source": [
    "e_new"
   ]
  },
  {
   "cell_type": "code",
   "execution_count": 14,
   "id": "d128221a",
   "metadata": {},
   "outputs": [
    {
     "data": {
      "text/plain": [
       "(1703,)"
      ]
     },
     "execution_count": 14,
     "metadata": {},
     "output_type": "execute_result"
    }
   ],
   "source": [
    "e_new.shape"
   ]
  },
  {
   "cell_type": "markdown",
   "id": "71ca8881",
   "metadata": {},
   "source": [
    "# Removing the columns with NA"
   ]
  },
  {
   "cell_type": "code",
   "execution_count": 15,
   "id": "bd5b7d89",
   "metadata": {},
   "outputs": [
    {
     "name": "stdout",
     "output_type": "stream",
     "text": [
      "[0.231   0.08    0.369   ... 0.316   0.00536 0.32   ]\n"
     ]
    }
   ],
   "source": [
    "print(e_new)"
   ]
  },
  {
   "cell_type": "markdown",
   "id": "57fbd32d",
   "metadata": {},
   "source": [
    "# Histogram plot for given data"
   ]
  },
  {
   "cell_type": "code",
   "execution_count": 16,
   "id": "d4fca979",
   "metadata": {},
   "outputs": [
    {
     "data": {
      "image/png": "[encoded data removed]",
      "text/plain": [
       "<Figure size 640x480 with 1 Axes>"
      ]
     },
     "metadata": {},
     "output_type": "display_data"
    }
   ],
   "source": [
    "plt.hist(e_new)\n",
    "plt.show()"
   ]
  },
  {
   "cell_type": "markdown",
   "id": "116e6a23",
   "metadata": {},
   "source": [
    "# Box-Cox transformation"
   ]
  },
  {
   "cell_type": "code",
   "execution_count": 17,
   "id": "7ffe97a8",
   "metadata": {},
   "outputs": [],
   "source": [
    "from scipy.stats import boxcox\n",
    "from scipy.special import boxcox\n",
    "import seaborn as sns\n",
    "fitted_data,_ = stats.boxcox(e_new)"
   ]
  },
  {
   "cell_type": "markdown",
   "id": "56235c70",
   "metadata": {},
   "source": [
    "# Histogram with Box-Cox transformation"
   ]
  },
  {
   "cell_type": "code",
   "execution_count": 18,
   "id": "61cb116d",
   "metadata": {},
   "outputs": [
    {
     "data": {
      "image/png": "[encoded data removed]",
      "text/plain": [
       "<Figure size 640x480 with 1 Axes>"
      ]
     },
     "metadata": {},
     "output_type": "display_data"
    }
   ],
   "source": [
    "plt.hist(fitted_data)\n",
    "plt.show()"
   ]
  },
  {
   "cell_type": "code",
   "execution_count": 19,
   "id": "f46d4667",
   "metadata": {},
   "outputs": [
    {
     "data": {
      "image/png": "[encoded data removed]",
      "text/plain": [
       "<Figure size 640x480 with 1 Axes>"
      ]
     },
     "metadata": {},
     "output_type": "display_data"
    }
   ],
   "source": [
    "plt.hist(e,color='orange')\n",
    "plt.hist(fitted_data,color='green')\n",
    "plt.legend(['given_data','Transformed_data'])\n",
    "plt.show()"
   ]
  },
  {
   "cell_type": "code",
   "execution_count": null,
   "id": "f9116794",
   "metadata": {},
   "outputs": [],
   "source": []
  }
 ],
 "metadata": {
  "kernelspec": {
   "display_name": "Python 3 (ipykernel)",
   "language": "python",
   "name": "python3"
  },
  "language_info": {
   "codemirror_mode": {
    "name": "ipython",
    "version": 3
   },
   "file_extension": ".py",
   "mimetype": "text/x-python",
   "name": "python",
   "nbconvert_exporter": "python",
   "pygments_lexer": "ipython3",
   "version": "3.9.13"
  }
 },
 "nbformat": 4,
 "nbformat_minor": 5
}
