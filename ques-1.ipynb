{
 "cells": [
  {
   "cell_type": "markdown",
   "id": "dcd9ff9b",
   "metadata": {},
   "source": [
    "# Ques-1"
   ]
  },
  {
   "cell_type": "markdown",
   "id": "4f963f2a",
   "metadata": {},
   "source": [
    "# Load Libraries"
   ]
  },
  {
   "cell_type": "code",
   "execution_count": 1,
   "id": "fa110c19",
   "metadata": {},
   "outputs": [],
   "source": [
    "from scipy import stats\n",
    "import numpy as np\n",
    "import pandas as pd\n",
    "import matplotlib.pyplot as plt\n",
    "import astroML\n",
    "from numpy import random\n",
    "import scipy"
   ]
  },
  {
   "cell_type": "code",
   "execution_count": 17,
   "id": "1e419f18",
   "metadata": {},
   "outputs": [],
   "source": [
    "x = stats.norm.rvs(loc=1.5,scale=0.5, size=1000)"
   ]
  },
  {
   "cell_type": "markdown",
   "id": "11b2115e",
   "metadata": {},
   "source": [
    "# calculation of basic terminology"
   ]
  },
  {
   "cell_type": "code",
   "execution_count": 18,
   "id": "592ed88b",
   "metadata": {},
   "outputs": [],
   "source": [
    "sample_mean=np.mean(x)"
   ]
  },
  {
   "cell_type": "code",
   "execution_count": 19,
   "id": "1111ffba",
   "metadata": {},
   "outputs": [
    {
     "data": {
      "text/plain": [
       "1.4954812089465555"
      ]
     },
     "execution_count": 19,
     "metadata": {},
     "output_type": "execute_result"
    }
   ],
   "source": [
    "sample_mean"
   ]
  },
  {
   "cell_type": "code",
   "execution_count": 20,
   "id": "f8afac5e",
   "metadata": {},
   "outputs": [
    {
     "data": {
      "text/plain": [
       "0.26115989018819785"
      ]
     },
     "execution_count": 20,
     "metadata": {},
     "output_type": "execute_result"
    }
   ],
   "source": [
    "import statistics\n",
    "variance=statistics.variance(x)\n",
    "variance"
   ]
  },
  {
   "cell_type": "code",
   "execution_count": 30,
   "id": "febaf630",
   "metadata": {},
   "outputs": [
    {
     "data": {
      "text/plain": [
       "0.511038051604964"
      ]
     },
     "execution_count": 30,
     "metadata": {},
     "output_type": "execute_result"
    }
   ],
   "source": [
    "standard_deviation=statistics.stdev(x)\n",
    "standard_deviation"
   ]
  },
  {
   "cell_type": "code",
   "execution_count": 31,
   "id": "3875bf5a",
   "metadata": {},
   "outputs": [
    {
     "data": {
      "text/plain": [
       "0.08541118145048943"
      ]
     },
     "execution_count": 31,
     "metadata": {},
     "output_type": "execute_result"
    }
   ],
   "source": [
    "# Importing scipy\n",
    "from scipy.stats import skew\n",
    "skewness=skew(x)\n",
    "skewness"
   ]
  },
  {
   "cell_type": "code",
   "execution_count": 32,
   "id": "731b1e0e",
   "metadata": {},
   "outputs": [
    {
     "data": {
      "text/plain": [
       "-0.3184355947375108"
      ]
     },
     "execution_count": 32,
     "metadata": {},
     "output_type": "execute_result"
    }
   ],
   "source": [
    "from scipy.stats import kurtosis\n",
    "kurtosis(x)"
   ]
  },
  {
   "cell_type": "code",
   "execution_count": 33,
   "id": "a2029f7d",
   "metadata": {},
   "outputs": [
    {
     "data": {
      "text/plain": [
       "1.4942423044071504"
      ]
     },
     "execution_count": 33,
     "metadata": {},
     "output_type": "execute_result"
    }
   ],
   "source": [
    "median=np.median(x)\n",
    "median"
   ]
  },
  {
   "cell_type": "markdown",
   "id": "cd98101b",
   "metadata": {},
   "source": [
    "# Calculating MAD SD of gaussian distribution"
   ]
  },
  {
   "cell_type": "code",
   "execution_count": 10,
   "id": "de26fff6",
   "metadata": {},
   "outputs": [],
   "source": [
    "# calculating MAD using for loop"
   ]
  },
  {
   "cell_type": "code",
   "execution_count": 25,
   "id": "b81c76cf",
   "metadata": {},
   "outputs": [],
   "source": [
    "MAD=scipy.stats.median_abs_deviation(x)"
   ]
  },
  {
   "cell_type": "code",
   "execution_count": 26,
   "id": "5920aa91",
   "metadata": {},
   "outputs": [
    {
     "data": {
      "text/plain": [
       "0.35585297930866744"
      ]
     },
     "execution_count": 26,
     "metadata": {},
     "output_type": "execute_result"
    }
   ],
   "source": [
    "MAD"
   ]
  },
  {
   "cell_type": "code",
   "execution_count": 27,
   "id": "f6dfcba0",
   "metadata": {},
   "outputs": [
    {
     "name": "stdout",
     "output_type": "stream",
     "text": [
      "0.5273741153354451\n"
     ]
    }
   ],
   "source": [
    "sd_G=1.482*MAD\n",
    "print(sd_G)"
   ]
  },
  {
   "cell_type": "code",
   "execution_count": 28,
   "id": "7d15bcb5",
   "metadata": {},
   "outputs": [],
   "source": [
    "element=0\n",
    "N=len(x)\n",
    "for element in x:\n",
    "    element+=(element-1.5)**3\n",
    "new_skew=element/(N)\n",
    "new_skew=new_skew/(0.502)**3"
   ]
  },
  {
   "cell_type": "code",
   "execution_count": 29,
   "id": "4ac81aa4",
   "metadata": {},
   "outputs": [
    {
     "data": {
      "text/plain": [
       "0.011336002923854649"
      ]
     },
     "execution_count": 29,
     "metadata": {},
     "output_type": "execute_result"
    }
   ],
   "source": [
    "new_skew"
   ]
  },
  {
   "cell_type": "markdown",
   "id": "c876a01b",
   "metadata": {},
   "source": [
    "# Plotting Pdf"
   ]
  },
  {
   "cell_type": "code",
   "execution_count": null,
   "id": "b4a96f35",
   "metadata": {},
   "outputs": [],
   "source": [
    "x = np.linspace(-5,5,1000)\n",
    "\n",
    "#Creating a Function.\n",
    "def normal_dist(x , mean , sd):\n",
    "    prob_density = (np.pi*sd) * np.exp(-0.5*((x-mean)/sd)**2)\n",
    "    return prob_density\n",
    " \n",
    "#Calculate mean and Standard deviation.\n",
    "mean = np.mean(x)\n",
    "sd = np.std(x)\n",
    " \n",
    "#Apply function to the data.\n",
    "mean = 1.5\n",
    "sd = 0.5\n",
    "pdf = normal_dist(x,mean,sd)\n",
    "\n",
    "#Plotting the Results\n",
    "plt.figure(figsize=(4,4))\n",
    "plt.plot(x,pdf , color = 'red')\n",
    "plt.xlabel('Data points')\n",
    "plt.ylabel('Probability Density')\n"
   ]
  },
  {
   "cell_type": "code",
   "execution_count": null,
   "id": "087fc55b",
   "metadata": {},
   "outputs": [],
   "source": []
  }
 ],
 "metadata": {
  "kernelspec": {
   "display_name": "Python 3 (ipykernel)",
   "language": "python",
   "name": "python3"
  },
  "language_info": {
   "codemirror_mode": {
    "name": "ipython",
    "version": 3
   },
   "file_extension": ".py",
   "mimetype": "text/x-python",
   "name": "python",
   "nbconvert_exporter": "python",
   "pygments_lexer": "ipython3",
   "version": "3.9.13"
  }
 },
 "nbformat": 4,
 "nbformat_minor": 5
}
