{
 "cells": [
  {
   "cell_type": "markdown",
   "id": "1e24a16a",
   "metadata": {},
   "source": [
    "# Ques-4"
   ]
  },
  {
   "cell_type": "markdown",
   "id": "777dfa9b",
   "metadata": {},
   "source": [
    "# Import Libraries"
   ]
  },
  {
   "cell_type": "code",
   "execution_count": 2,
   "id": "79f82639",
   "metadata": {},
   "outputs": [],
   "source": [
    "from scipy import stats\n",
    "import numpy as np\n",
    "import pandas as pd\n",
    "import matplotlib.pyplot as plt\n",
    "import astroML"
   ]
  },
  {
   "cell_type": "markdown",
   "id": "71936229",
   "metadata": {},
   "source": [
    "# Writing the data points as per ques"
   ]
  },
  {
   "cell_type": "code",
   "execution_count": 3,
   "id": "8a31da60",
   "metadata": {},
   "outputs": [],
   "source": [
    "x1=0.8920\n",
    "sigma_1=0.00044\n",
    "\n",
    "x2=0.881\n",
    "sigma_2=0.009\n",
    "\n",
    "x3=0.8913\n",
    "sigma_3=0.00032\n",
    "\n",
    "x4=0.9837\n",
    "sigma_4=0.00048\n",
    "\n",
    "x5=0.8958\n",
    "sigma_5=0.00045\n",
    "x=[x1,x2,x3,x4,x5]\n",
    "sigma=[sigma_1,sigma_2,sigma_3,sigma_4,sigma_5]"
   ]
  },
  {
   "cell_type": "markdown",
   "id": "3685f644",
   "metadata": {},
   "source": [
    "# Calculating the Mean"
   ]
  },
  {
   "cell_type": "code",
   "execution_count": 4,
   "id": "64e2328d",
   "metadata": {},
   "outputs": [],
   "source": [
    "num=0\n",
    "den=0\n",
    "for i in range(0,len(x)):\n",
    "    num+=(x[i]/sigma[i]**2)\n",
    "    den+=(1/sigma[i]**2)"
   ]
  },
  {
   "cell_type": "code",
   "execution_count": 6,
   "id": "8fc21eb8",
   "metadata": {},
   "outputs": [
    {
     "name": "stdout",
     "output_type": "stream",
     "text": [
      "0.9089185199574897\n"
     ]
    }
   ],
   "source": [
    "mean=num/den\n",
    "print(mean)"
   ]
  },
  {
   "cell_type": "markdown",
   "id": "7d24810b",
   "metadata": {},
   "source": [
    "# Uncertainity"
   ]
  },
  {
   "cell_type": "code",
   "execution_count": 8,
   "id": "4035fccc",
   "metadata": {},
   "outputs": [
    {
     "name": "stdout",
     "output_type": "stream",
     "text": [
      "0.00020318737026848627\n"
     ]
    }
   ],
   "source": [
    "uncertainity=((1/den)**0.5)\n",
    "print(uncertainity)"
   ]
  }
 ],
 "metadata": {
  "kernelspec": {
   "display_name": "Python 3 (ipykernel)",
   "language": "python",
   "name": "python3"
  },
  "language_info": {
   "codemirror_mode": {
    "name": "ipython",
    "version": 3
   },
   "file_extension": ".py",
   "mimetype": "text/x-python",
   "name": "python",
   "nbconvert_exporter": "python",
   "pygments_lexer": "ipython3",
   "version": "3.9.13"
  }
 },
 "nbformat": 4,
 "nbformat_minor": 5
}
