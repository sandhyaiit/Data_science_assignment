{
 "cells": [
  {
   "cell_type": "markdown",
   "id": "1e24a16a",
   "metadata": {},
   "source": [
    "# ques-4"
   ]
  },
  {
   "cell_type": "markdown",
   "id": "777dfa9b",
   "metadata": {},
   "source": [
    "# Import Libraries"
   ]
  },
  {
   "cell_type": "code",
   "execution_count": 1,
   "id": "79f82639",
   "metadata": {},
   "outputs": [],
   "source": [
    "from scipy import stats\n",
    "import numpy as np\n",
    "import pandas as pd\n",
    "import matplotlib.pyplot as plt\n",
    "import astroML"
   ]
  },
  {
   "cell_type": "markdown",
   "id": "71936229",
   "metadata": {},
   "source": [
    "# Writing the data points as per ques"
   ]
  },
  {
   "cell_type": "code",
   "execution_count": 2,
   "id": "8a31da60",
   "metadata": {},
   "outputs": [],
   "source": [
    "x1=0.8920\n",
    "w1=0.00044\n",
    "\n",
    "x2=0.881\n",
    "w2=0.009\n",
    "\n",
    "x3=0.8913\n",
    "w3=0.00032\n",
    "\n",
    "x4=0.9837\n",
    "w4=0.00048\n",
    "\n",
    "x5=0.8958\n",
    "w5=0.00045\n",
    "x=[[x1,w1],[x2,w2],[x3,w3],[x4,w4],[x5,w5]]"
   ]
  },
  {
   "cell_type": "markdown",
   "id": "3685f644",
   "metadata": {},
   "source": [
    "# Calculating the weighted-mean"
   ]
  },
  {
   "cell_type": "code",
   "execution_count": 3,
   "id": "64e2328d",
   "metadata": {},
   "outputs": [
    {
     "data": {
      "text/plain": [
       "0.8869955098222638"
      ]
     },
     "execution_count": 3,
     "metadata": {},
     "output_type": "execute_result"
    }
   ],
   "source": [
    "weighted_mean_temp=((x1*w1)+(x2*w2)+(x3*w3)+(x4*w4)+(x5*w5))\n",
    "weighted_mean = weighted_mean_temp/(w1+w2+w3+w4+w5)\n",
    "weighted_mean"
   ]
  },
  {
   "cell_type": "code",
   "execution_count": 4,
   "id": "4035fccc",
   "metadata": {},
   "outputs": [],
   "source": [
    "x=np.array(x)"
   ]
  },
  {
   "cell_type": "code",
   "execution_count": 7,
   "id": "6f8f7d38",
   "metadata": {},
   "outputs": [
    {
     "name": "stdout",
     "output_type": "stream",
     "text": [
      "[0.0023772  0.97873073]\n"
     ]
    }
   ],
   "source": [
    "x=np.array(x)\n",
    "import statistics\n",
    "var=0\n",
    "for elements in x:\n",
    "    #print(elements)\n",
    "    var+=((elements-weighted_mean)**2)\n",
    "var=var/4\n",
    "print(var)"
   ]
  },
  {
   "cell_type": "code",
   "execution_count": 21,
   "id": "d82038ad",
   "metadata": {},
   "outputs": [
    {
     "data": {
      "text/plain": [
       "array([0.04875653, 0.98930821])"
      ]
     },
     "execution_count": 21,
     "metadata": {},
     "output_type": "execute_result"
    }
   ],
   "source": [
    "std=var**(0.5)\n",
    "std"
   ]
  },
  {
   "cell_type": "markdown",
   "id": "3e803013",
   "metadata": {},
   "source": [
    "# Uncertainity"
   ]
  },
  {
   "cell_type": "code",
   "execution_count": 22,
   "id": "c4f0ab60",
   "metadata": {},
   "outputs": [
    {
     "data": {
      "text/plain": [
       "array([0.00609457, 0.12366353])"
      ]
     },
     "execution_count": 22,
     "metadata": {},
     "output_type": "execute_result"
    }
   ],
   "source": [
    "uncertainity=std/(2*5-2)\n",
    "uncertainity"
   ]
  },
  {
   "cell_type": "code",
   "execution_count": null,
   "id": "d3481666",
   "metadata": {},
   "outputs": [],
   "source": []
  }
 ],
 "metadata": {
  "kernelspec": {
   "display_name": "Python 3 (ipykernel)",
   "language": "python",
   "name": "python3"
  },
  "language_info": {
   "codemirror_mode": {
    "name": "ipython",
    "version": 3
   },
   "file_extension": ".py",
   "mimetype": "text/x-python",
   "name": "python",
   "nbconvert_exporter": "python",
   "pygments_lexer": "ipython3",
   "version": "3.9.13"
  }
 },
 "nbformat": 4,
 "nbformat_minor": 5
}
